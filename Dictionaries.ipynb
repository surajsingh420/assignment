{
 "cells": [
  {
   "cell_type": "code",
   "execution_count": 1,
   "id": "cc8e4748-f244-484a-ab97-1aea81c9a389",
   "metadata": {},
   "outputs": [],
   "source": [
    "d = {}"
   ]
  },
  {
   "cell_type": "code",
   "execution_count": 3,
   "id": "cd26e550-ca75-49da-9b2d-125ac0c626f9",
   "metadata": {},
   "outputs": [
    {
     "data": {
      "text/plain": [
       "dict"
      ]
     },
     "execution_count": 3,
     "metadata": {},
     "output_type": "execute_result"
    }
   ],
   "source": [
    "type(d)"
   ]
  },
  {
   "cell_type": "code",
   "execution_count": 4,
   "id": "85839c4b-2cc7-4d17-86a2-cbfde605394a",
   "metadata": {},
   "outputs": [],
   "source": [
    "d1 = {\"key\" : \"realme\"}"
   ]
  },
  {
   "cell_type": "code",
   "execution_count": 5,
   "id": "fa040b39-9feb-4590-a2ca-9af7f39a26ff",
   "metadata": {},
   "outputs": [
    {
     "data": {
      "text/plain": [
       "{'key': 'realme'}"
      ]
     },
     "execution_count": 5,
     "metadata": {},
     "output_type": "execute_result"
    }
   ],
   "source": [
    "d1"
   ]
  },
  {
   "cell_type": "code",
   "execution_count": 6,
   "id": "3d33df21-8d60-4504-8972-80a229e4f59f",
   "metadata": {},
   "outputs": [],
   "source": [
    "d2 = {\"name\":\"suraj\", \"email\":\"sr2812200@gmail.com\", \"number\":\"98187098\"}"
   ]
  },
  {
   "cell_type": "code",
   "execution_count": 7,
   "id": "d00aefc2-60bc-42c1-8c02-dca76e29b30e",
   "metadata": {},
   "outputs": [
    {
     "data": {
      "text/plain": [
       "{'name': 'suraj', 'email': 'sr2812200@gmail.com', 'number': '98187098'}"
      ]
     },
     "execution_count": 7,
     "metadata": {},
     "output_type": "execute_result"
    }
   ],
   "source": [
    "d2"
   ]
  },
  {
   "cell_type": "code",
   "execution_count": 9,
   "id": "791556f8-163e-4ba0-8856-04e0c7e4da98",
   "metadata": {},
   "outputs": [],
   "source": [
    "d3 = {234:\"suraj\", \"_wer\" : \"kumar\", True:22443}"
   ]
  },
  {
   "cell_type": "code",
   "execution_count": 10,
   "id": "4b034639-77a1-41f7-bc21-54421f35a6d1",
   "metadata": {},
   "outputs": [
    {
     "data": {
      "text/plain": [
       "{234: 'suraj', '_wer': 'kumar', True: 22443}"
      ]
     },
     "execution_count": 10,
     "metadata": {},
     "output_type": "execute_result"
    }
   ],
   "source": [
    "d3"
   ]
  },
  {
   "cell_type": "code",
   "execution_count": 11,
   "id": "9821b777-8a7c-4e4f-8de5-6e3921c9d0c4",
   "metadata": {},
   "outputs": [
    {
     "data": {
      "text/plain": [
       "'suraj'"
      ]
     },
     "execution_count": 11,
     "metadata": {},
     "output_type": "execute_result"
    }
   ],
   "source": [
    "d3[234]"
   ]
  },
  {
   "cell_type": "code",
   "execution_count": 12,
   "id": "e16d5a21-4829-4574-beb5-695d6a15dda0",
   "metadata": {},
   "outputs": [
    {
     "data": {
      "text/plain": [
       "22443"
      ]
     },
     "execution_count": 12,
     "metadata": {},
     "output_type": "execute_result"
    }
   ],
   "source": [
    "d3[True]"
   ]
  },
  {
   "cell_type": "code",
   "execution_count": 16,
   "id": "883479ea-5b2e-4f07-97fc-985ce45c4523",
   "metadata": {},
   "outputs": [
    {
     "data": {
      "text/plain": [
       "'kumar'"
      ]
     },
     "execution_count": 16,
     "metadata": {},
     "output_type": "execute_result"
    }
   ],
   "source": [
    "d3['_wer']"
   ]
  },
  {
   "cell_type": "code",
   "execution_count": 18,
   "id": "13a70d9f-7248-46e5-bce4-2b8a74f725ae",
   "metadata": {},
   "outputs": [
    {
     "data": {
      "text/plain": [
       "'singh'"
      ]
     },
     "execution_count": 18,
     "metadata": {},
     "output_type": "execute_result"
    }
   ],
   "source": [
    "d4[\"name\"]"
   ]
  },
  {
   "cell_type": "code",
   "execution_count": 21,
   "id": "47a5f788-2f21-4591-b299-15257b7e23e7",
   "metadata": {},
   "outputs": [],
   "source": [
    "d5 = {\"company\":\"pwskils\", \"course\":[\"web dev\", \"dsa with java\", \"c++ with dsa\"]}"
   ]
  },
  {
   "cell_type": "code",
   "execution_count": 22,
   "id": "fb5eac02-7d4a-4901-8bff-8e15ccad6571",
   "metadata": {},
   "outputs": [
    {
     "data": {
      "text/plain": [
       "{'company': 'pwskils', 'course': ['web dev', 'dsa with java', 'c++ with dsa']}"
      ]
     },
     "execution_count": 22,
     "metadata": {},
     "output_type": "execute_result"
    }
   ],
   "source": [
    "d5"
   ]
  },
  {
   "cell_type": "code",
   "execution_count": 23,
   "id": "db874ecb-18dc-43d7-a944-98fefdd5abf3",
   "metadata": {},
   "outputs": [
    {
     "data": {
      "text/plain": [
       "['web dev', 'dsa with java', 'c++ with dsa']"
      ]
     },
     "execution_count": 23,
     "metadata": {},
     "output_type": "execute_result"
    }
   ],
   "source": [
    "d5['course']"
   ]
  },
  {
   "cell_type": "code",
   "execution_count": 24,
   "id": "89f57ca4-6718-4b07-b259-001e88fe2b80",
   "metadata": {},
   "outputs": [
    {
     "data": {
      "text/plain": [
       "'dsa with java'"
      ]
     },
     "execution_count": 24,
     "metadata": {},
     "output_type": "execute_result"
    }
   ],
   "source": [
    "d5['course'][1]"
   ]
  },
  {
   "cell_type": "code",
   "execution_count": 1,
   "id": "6523dee6-0b3a-4529-9042-914ea14b0cda",
   "metadata": {},
   "outputs": [],
   "source": [
    "d6 = {\"number\": [2,33,4,55,43], \"assignment\":(1,23,4,5),\"lunch_time\":{22,45,76}, \"class_time\":{\"web_dev\":8, \"data science masters\":9,\"java with dsa and system design\":7}}"
   ]
  },
  {
   "cell_type": "code",
   "execution_count": 2,
   "id": "03a93a55-a68b-47b0-9a49-e9a7f8ab98af",
   "metadata": {},
   "outputs": [
    {
     "data": {
      "text/plain": [
       "{'number': [2, 33, 4, 55, 43],\n",
       " 'assignment': (1, 23, 4, 5),\n",
       " 'lunch_time': {22, 45, 76},\n",
       " 'class_time': {'web_dev': 8,\n",
       "  'data science masters': 9,\n",
       "  'java with dsa and system design': 7}}"
      ]
     },
     "execution_count": 2,
     "metadata": {},
     "output_type": "execute_result"
    }
   ],
   "source": [
    "d6"
   ]
  },
  {
   "cell_type": "code",
   "execution_count": 3,
   "id": "f1d19c66-4e8c-46e5-b565-02aaf072eb9c",
   "metadata": {},
   "outputs": [
    {
     "data": {
      "text/plain": [
       "{'web_dev': 8, 'data science masters': 9, 'java with dsa and system design': 7}"
      ]
     },
     "execution_count": 3,
     "metadata": {},
     "output_type": "execute_result"
    }
   ],
   "source": [
    "d6['class_time']"
   ]
  },
  {
   "cell_type": "code",
   "execution_count": 4,
   "id": "796bae7a-ea3d-46c9-bae0-a12da020d327",
   "metadata": {},
   "outputs": [
    {
     "data": {
      "text/plain": [
       "7"
      ]
     },
     "execution_count": 4,
     "metadata": {},
     "output_type": "execute_result"
    }
   ],
   "source": [
    "d6['class_time']['java with dsa and system design']"
   ]
  },
  {
   "cell_type": "code",
   "execution_count": 5,
   "id": "f714eec2-3645-45cf-adeb-ea36cb4dc0ea",
   "metadata": {},
   "outputs": [],
   "source": [
    "d6['mentor'] = ['suraj','krish','shanu']"
   ]
  },
  {
   "cell_type": "code",
   "execution_count": 6,
   "id": "2bc421d4-3709-4849-9ad2-0c0737799758",
   "metadata": {},
   "outputs": [
    {
     "data": {
      "text/plain": [
       "{'number': [2, 33, 4, 55, 43],\n",
       " 'assignment': (1, 23, 4, 5),\n",
       " 'lunch_time': {22, 45, 76},\n",
       " 'class_time': {'web_dev': 8,\n",
       "  'data science masters': 9,\n",
       "  'java with dsa and system design': 7},\n",
       " 'mentor': ['suraj', 'krish', 'shanu']}"
      ]
     },
     "execution_count": 6,
     "metadata": {},
     "output_type": "execute_result"
    }
   ],
   "source": [
    "d6"
   ]
  },
  {
   "cell_type": "code",
   "execution_count": 7,
   "id": "b6f82079-4f1a-48d8-898d-7a23dbf73f1f",
   "metadata": {},
   "outputs": [],
   "source": [
    "del d6['number']"
   ]
  },
  {
   "cell_type": "code",
   "execution_count": 8,
   "id": "be64bb17-7dd6-482f-928d-c80ad0cad38c",
   "metadata": {},
   "outputs": [
    {
     "data": {
      "text/plain": [
       "{'assignment': (1, 23, 4, 5),\n",
       " 'lunch_time': {22, 45, 76},\n",
       " 'class_time': {'web_dev': 8,\n",
       "  'data science masters': 9,\n",
       "  'java with dsa and system design': 7},\n",
       " 'mentor': ['suraj', 'krish', 'shanu']}"
      ]
     },
     "execution_count": 8,
     "metadata": {},
     "output_type": "execute_result"
    }
   ],
   "source": [
    "d6"
   ]
  },
  {
   "cell_type": "code",
   "execution_count": 9,
   "id": "beb5806f-04f5-4a37-b7c5-7c1b52d0d1ab",
   "metadata": {},
   "outputs": [
    {
     "data": {
      "text/plain": [
       "dict_keys(['assignment', 'lunch_time', 'class_time', 'mentor'])"
      ]
     },
     "execution_count": 9,
     "metadata": {},
     "output_type": "execute_result"
    }
   ],
   "source": [
    "d6.keys()"
   ]
  },
  {
   "cell_type": "code",
   "execution_count": 10,
   "id": "8a4e4fbd-d5c2-434a-ba56-17c88b0cfc16",
   "metadata": {},
   "outputs": [
    {
     "data": {
      "text/plain": [
       "['assignment', 'lunch_time', 'class_time', 'mentor']"
      ]
     },
     "execution_count": 10,
     "metadata": {},
     "output_type": "execute_result"
    }
   ],
   "source": [
    "list(d6.keys())"
   ]
  },
  {
   "cell_type": "code",
   "execution_count": 11,
   "id": "9f1a6287-96d7-4b15-b200-9d9700e09421",
   "metadata": {},
   "outputs": [
    {
     "data": {
      "text/plain": [
       "dict_values([(1, 23, 4, 5), {76, 45, 22}, {'web_dev': 8, 'data science masters': 9, 'java with dsa and system design': 7}, ['suraj', 'krish', 'shanu']])"
      ]
     },
     "execution_count": 11,
     "metadata": {},
     "output_type": "execute_result"
    }
   ],
   "source": [
    "d6.values()"
   ]
  },
  {
   "cell_type": "code",
   "execution_count": 12,
   "id": "5193ac05-5a31-48e5-a0da-dce619482035",
   "metadata": {},
   "outputs": [
    {
     "data": {
      "text/plain": [
       "[(1, 23, 4, 5),\n",
       " {22, 45, 76},\n",
       " {'web_dev': 8,\n",
       "  'data science masters': 9,\n",
       "  'java with dsa and system design': 7},\n",
       " ['suraj', 'krish', 'shanu']]"
      ]
     },
     "execution_count": 12,
     "metadata": {},
     "output_type": "execute_result"
    }
   ],
   "source": [
    "list(d6.values())"
   ]
  },
  {
   "cell_type": "code",
   "execution_count": 13,
   "id": "1f1b80fc-7b60-41f5-8bfe-b79dc28defb5",
   "metadata": {},
   "outputs": [
    {
     "data": {
      "text/plain": [
       "[('assignment', (1, 23, 4, 5)),\n",
       " ('lunch_time', {22, 45, 76}),\n",
       " ('class_time',\n",
       "  {'web_dev': 8,\n",
       "   'data science masters': 9,\n",
       "   'java with dsa and system design': 7}),\n",
       " ('mentor', ['suraj', 'krish', 'shanu'])]"
      ]
     },
     "execution_count": 13,
     "metadata": {},
     "output_type": "execute_result"
    }
   ],
   "source": [
    "list(d6.items())"
   ]
  },
  {
   "cell_type": "code",
   "execution_count": 14,
   "id": "3fb7893a-05b1-4f31-b667-2986f039194a",
   "metadata": {},
   "outputs": [
    {
     "data": {
      "text/plain": [
       "(1, 23, 4, 5)"
      ]
     },
     "execution_count": 14,
     "metadata": {},
     "output_type": "execute_result"
    }
   ],
   "source": [
    "d6.pop('assignment')"
   ]
  },
  {
   "cell_type": "code",
   "execution_count": 15,
   "id": "ba577e8d-dd19-4145-9d41-072ddd398663",
   "metadata": {},
   "outputs": [
    {
     "data": {
      "text/plain": [
       "{'lunch_time': {22, 45, 76},\n",
       " 'class_time': {'web_dev': 8,\n",
       "  'data science masters': 9,\n",
       "  'java with dsa and system design': 7},\n",
       " 'mentor': ['suraj', 'krish', 'shanu']}"
      ]
     },
     "execution_count": 15,
     "metadata": {},
     "output_type": "execute_result"
    }
   ],
   "source": [
    "d6"
   ]
  },
  {
   "cell_type": "code",
   "execution_count": 2,
   "id": "f1ee4734-b715-4146-b59a-85c4e52b4b0d",
   "metadata": {},
   "outputs": [
    {
     "name": "stdin",
     "output_type": "stream",
     "text": [
      "Enter a percentage 123\n"
     ]
    },
    {
     "name": "stdout",
     "output_type": "stream",
     "text": [
      "Please entern between 1 - 100\n"
     ]
    }
   ],
   "source": [
    "\n",
    "a = int(input('Enter a percentage'))\n",
    "if 100 >= a >= 80 :\n",
    "    print('you are eligibale for A Section')\n",
    "elif 80 > a >= 60 :\n",
    "    print('you are eligibale for A1 Section')\n",
    "elif 60 > a >= 40 :\n",
    "    print('you are eligibale for A2 Section')\n",
    "elif 40 > a >= 27 :\n",
    "    print('you are eligibale for A3 Section')\n",
    "elif 27 > a > 1 :\n",
    "    print(\"you are not eligibale for Study go for a lebary\")\n",
    "    \n",
    "else :\n",
    "    print('Please entern between 1 - 100')"
   ]
  },
  {
   "cell_type": "code",
   "execution_count": 2,
   "id": "154ee8ea-f713-4fab-961a-c286f59f13ae",
   "metadata": {},
   "outputs": [
    {
     "name": "stdin",
     "output_type": "stream",
     "text": [
      "enter price 400\n"
     ]
    },
    {
     "name": "stdout",
     "output_type": "stream",
     "text": [
      "i will purchase\n"
     ]
    }
   ],
   "source": [
    "price = int(input(\"enter price\"))\n",
    "if price > 1000:\n",
    "    print(\"i will not purchase\")\n",
    "else :\n",
    "    print(\"i will purchase\")"
   ]
  },
  {
   "cell_type": "code",
   "execution_count": 14,
   "id": "e325bd29-0a7c-4806-99ae-7caa731e81b5",
   "metadata": {},
   "outputs": [
    {
     "name": "stdin",
     "output_type": "stream",
     "text": [
      "enter price 12\n"
     ]
    },
    {
     "name": "stdout",
     "output_type": "stream",
     "text": [
      "This is too much cheaper\n"
     ]
    }
   ],
   "source": [
    "price = int(input(\"enter price\"))\n",
    "if price > 1000:\n",
    "    print(\"i will not purchase\")\n",
    "    if price > 5000 :\n",
    "        print(\"this is too much\")\n",
    "    elif price < 2000:\n",
    "        print(\"its Ok\")\n",
    "elif 200 < price < 1000:\n",
    "    print(\"I will purchase\")\n",
    "else :\n",
    "    print(\"This is too much cheaper\")"
   ]
  },
  {
   "cell_type": "code",
   "execution_count": 2,
   "id": "d299c63c-46e6-47c3-b300-d8100dbb30d8",
   "metadata": {},
   "outputs": [],
   "source": [
    "k = [1,2,3,4,5,6,7,8]"
   ]
  },
  {
   "cell_type": "code",
   "execution_count": 18,
   "id": "68fef2dc-a8e6-4701-905e-88ffe4457d1b",
   "metadata": {},
   "outputs": [
    {
     "data": {
      "text/plain": [
       "[1, 2, 3, 4, 5, 6, 7, 8]"
      ]
     },
     "execution_count": 18,
     "metadata": {},
     "output_type": "execute_result"
    }
   ],
   "source": [
    "k"
   ]
  },
  {
   "cell_type": "code",
   "execution_count": 21,
   "id": "6cc79736-5f5e-4617-96e8-b018c5c60407",
   "metadata": {},
   "outputs": [],
   "source": [
    "k.insert(2,25)"
   ]
  },
  {
   "cell_type": "code",
   "execution_count": null,
   "id": "147e1359-0c32-4927-85de-b265d2d64a8e",
   "metadata": {},
   "outputs": [],
   "source": []
  },
  {
   "cell_type": "code",
   "execution_count": 24,
   "id": "061c6014-f09d-43ec-bd53-0a57429eaeea",
   "metadata": {},
   "outputs": [
    {
     "data": {
      "text/plain": [
       "[1, 2, 25, 3, 4, 5, 6, 7, 8]"
      ]
     },
     "execution_count": 24,
     "metadata": {},
     "output_type": "execute_result"
    }
   ],
   "source": [
    "k"
   ]
  },
  {
   "cell_type": "code",
   "execution_count": 25,
   "id": "988ad2d8-2a5e-4d66-8b28-c4a0870e86e5",
   "metadata": {},
   "outputs": [],
   "source": [
    "k.remove(2)"
   ]
  },
  {
   "cell_type": "code",
   "execution_count": 26,
   "id": "ec137ecc-c682-4d09-b715-612f93613a83",
   "metadata": {},
   "outputs": [
    {
     "data": {
      "text/plain": [
       "[1, 25, 3, 4, 5, 6, 7, 8]"
      ]
     },
     "execution_count": 26,
     "metadata": {},
     "output_type": "execute_result"
    }
   ],
   "source": [
    "k"
   ]
  },
  {
   "cell_type": "code",
   "execution_count": 27,
   "id": "8adecbf8-35ce-4298-828c-203861678a5f",
   "metadata": {},
   "outputs": [
    {
     "data": {
      "text/plain": [
       "25"
      ]
     },
     "execution_count": 27,
     "metadata": {},
     "output_type": "execute_result"
    }
   ],
   "source": [
    "k.pop(1)"
   ]
  },
  {
   "cell_type": "code",
   "execution_count": 42,
   "id": "6e0db6cd-3fe6-474f-b7fd-5fc1dd11c65c",
   "metadata": {},
   "outputs": [
    {
     "data": {
      "text/plain": [
       "[1, 3, 4, 5, 6, 7, 8]"
      ]
     },
     "execution_count": 42,
     "metadata": {},
     "output_type": "execute_result"
    }
   ],
   "source": [
    "k"
   ]
  },
  {
   "cell_type": "code",
   "execution_count": 8,
   "id": "81f3fae4-b3f3-441e-9529-dac76c6a762e",
   "metadata": {},
   "outputs": [
    {
     "name": "stdout",
     "output_type": "stream",
     "text": [
      "[2, 3, 4, 5, 6, 7, 8, 9]\n"
     ]
    }
   ],
   "source": [
    "d = [z + 1 for z in k]\n",
    "print(d)"
   ]
  },
  {
   "cell_type": "code",
   "execution_count": 41,
   "id": "8ed6c223-3edd-46d4-9d7a-a8309061f776",
   "metadata": {},
   "outputs": [
    {
     "data": {
      "text/plain": [
       "[2, 4, 5, 6, 7, 8, 9]"
      ]
     },
     "execution_count": 59,
     "metadata": {},
     "output_type": "execute_result"
    }
   ],
   "source": [
    "d"
   ]
  },
  {
   "cell_type": "code",
   "execution_count": 61,
   "id": "d397c289-6788-42b3-97b8-a1f1972c6806",
   "metadata": {},
   "outputs": [
    {
     "name": "stdout",
     "output_type": "stream",
     "text": [
      "[2, 3, 4, 5]\n"
     ]
    }
   ],
   "source": [
    "list_one = [1,2,3,4]\n",
    "for i in range(len(list_one)):\n",
    "    list_one[i] += 1\n",
    "print(list_one)"
   ]
  },
  {
   "cell_type": "code",
   "execution_count": 53,
   "id": "dc923f57-64f8-4354-a18c-ccb754867434",
   "metadata": {},
   "outputs": [
    {
     "data": {
      "text/plain": [
       "range(0, 2)"
      ]
     },
     "execution_count": 53,
     "metadata": {},
     "output_type": "execute_result"
    }
   ],
   "source": [
    "range(0,2)"
   ]
  },
  {
   "cell_type": "code",
   "execution_count": 54,
   "id": "5ab93a3d-4940-4323-85c4-a2b06fc536d0",
   "metadata": {},
   "outputs": [
    {
     "data": {
      "text/plain": [
       "4"
      ]
     },
     "execution_count": 54,
     "metadata": {},
     "output_type": "execute_result"
    }
   ],
   "source": [
    "len(list_one)"
   ]
  },
  {
   "cell_type": "code",
   "execution_count": 3,
   "id": "3ab3db1c-13a0-42a4-95a7-c055c99b3048",
   "metadata": {},
   "outputs": [
    {
     "data": {
      "text/plain": [
       "[1, 2, 3, 4, 5, 6, 7, 8]"
      ]
     },
     "execution_count": 3,
     "metadata": {},
     "output_type": "execute_result"
    }
   ],
   "source": [
    "k"
   ]
  },
  {
   "cell_type": "code",
   "execution_count": 6,
   "id": "1bd765b3-1b01-4e6d-a214-ed21ea87a53b",
   "metadata": {},
   "outputs": [
    {
     "data": {
      "text/plain": [
       "[2, 3, 4, 5, 6, 7, 8, 9]"
      ]
     },
     "execution_count": 6,
     "metadata": {},
     "output_type": "execute_result"
    }
   ],
   "source": [
    "k1 = []\n",
    "for i in k :\n",
    "    k1.append(i+1)\n",
    "k1"
   ]
  },
  {
   "cell_type": "code",
   "execution_count": 9,
   "id": "cb3c1c08-4bf7-437e-8806-99bc76f3fd88",
   "metadata": {},
   "outputs": [],
   "source": [
    "u = ['suraj', 'kumar', 'singh', 'course']"
   ]
  },
  {
   "cell_type": "code",
   "execution_count": 32,
   "id": "e0b9a828-0b82-4ec2-b2ca-709e74c3d1c7",
   "metadata": {},
   "outputs": [
    {
     "data": {
      "text/plain": [
       "['SURAJ', 'KUMAR', 'SINGH', 'COURSE']"
      ]
     },
     "execution_count": 32,
     "metadata": {},
     "output_type": "execute_result"
    }
   ],
   "source": [
    "u1 = []\n",
    "for i in u :\n",
    "    u1.append(i.upper())\n",
    "    \n",
    "u1"
   ]
  },
  {
   "cell_type": "code",
   "execution_count": 1,
   "id": "ad7b90a0-4601-4bf0-b5f7-454379b554bb",
   "metadata": {},
   "outputs": [],
   "source": [
    "l = [1,2,3,4,5, \"suraj\", \"kumar\", 455,234,343, \"abc\"]"
   ]
  },
  {
   "cell_type": "code",
   "execution_count": 37,
   "id": "e472b795-ca42-400a-bb53-9bcb7abfa245",
   "metadata": {},
   "outputs": [
    {
     "name": "stdout",
     "output_type": "stream",
     "text": [
      "[1, 2, 3, 4, 5, 455, 234, 343]\n",
      "['suraj', 'kumar', 'abc']\n"
     ]
    }
   ],
   "source": [
    "l1_num = []\n",
    "l2_str = []\n",
    "for i in l :\n",
    "    if type(i) == int or type(i) == complex :\n",
    "        l1_num.append(i)\n",
    "       \n",
    "    else :\n",
    "        l2_str.append(i)\n",
    "\n",
    "print(l1_num)\n",
    "print(l2_str)\n",
    " "
   ]
  },
  {
   "cell_type": "code",
   "execution_count": 28,
   "id": "8b0cb7d9-de02-403c-9249-8ccf135e80b5",
   "metadata": {},
   "outputs": [
    {
     "data": {
      "text/plain": [
       "['suraj', 'kumar', 'abc']"
      ]
     },
     "execution_count": 28,
     "metadata": {},
     "output_type": "execute_result"
    }
   ],
   "source": [
    "l2_str"
   ]
  },
  {
   "cell_type": "code",
   "execution_count": null,
   "id": "f6598094-089e-4645-b0ec-73623be892de",
   "metadata": {},
   "outputs": [],
   "source": []
  }
 ],
 "metadata": {
  "kernelspec": {
   "display_name": "Python 3 (ipykernel)",
   "language": "python",
   "name": "python3"
  },
  "language_info": {
   "codemirror_mode": {
    "name": "ipython",
    "version": 3
   },
   "file_extension": ".py",
   "mimetype": "text/x-python",
   "name": "python",
   "nbconvert_exporter": "python",
   "pygments_lexer": "ipython3",
   "version": "3.10.6"
  }
 },
 "nbformat": 4,
 "nbformat_minor": 5
}
